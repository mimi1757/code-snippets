{
  "nbformat": 4,
  "nbformat_minor": 0,
  "metadata": {
    "colab": {
      "name": "WIDSModel2.ipynb",
      "provenance": []
    },
    "kernelspec": {
      "name": "python3",
      "display_name": "Python 3"
    }
  },
  "cells": [
    {
      "cell_type": "markdown",
      "metadata": {
        "id": "MvJqi3zm8ubY"
      },
      "source": [
        "Goal here is to run a more nuanced ensemble model and not overfit this time"
      ]
    },
    {
      "cell_type": "code",
      "metadata": {
        "colab": {
          "base_uri": "https://localhost:8080/"
        },
        "id": "Rmllg3ud8Nvk",
        "outputId": "2bcc1106-5437-4b46-9227-a7d0591599bb"
      },
      "source": [
        "import  pandas as pd\n",
        "from numpy import set_printoptions\n",
        "import numpy as np\n",
        "# load data\n",
        "\n",
        "#import os\n",
        "#for dirname, _, filenames in os.walk('../input'):\n",
        "#    for filename in filenames:\n",
        "#        print(os.path.join(dirname, filename))\n",
        "pd.set_option('max_columns', None)\n",
        "df_train=pd.read_csv(\"/content/sample_data/TrainingWiDS2021.csv\")\n",
        "df_test=pd.read_csv(\"/content/sample_data/UnlabeledWiDS2021.csv\")\n",
        "\n",
        "df_final = df_train.loc[:, ['diabetes_mellitus', \n",
        " ###'encounter_id',\n",
        " ###'hospital_id',\n",
        " 'age',\n",
        " 'bmi',\n",
        " ###'elective_surgery',\n",
        " 'ethnicity',\n",
        " 'gender',\n",
        " 'height',\n",
        " 'hospital_admit_source',\n",
        " 'icu_admit_source',\n",
        " ###'icu_id',\n",
        " 'icu_stay_type',\n",
        " 'icu_type',\n",
        " ###'pre_icu_los_days',\n",
        " ###'readmission_status',\n",
        " 'weight',\n",
        " 'albumin_apache',\n",
        " 'apache_2_diagnosis',\n",
        " 'apache_3j_diagnosis',\n",
        " 'apache_post_operative',\n",
        " 'arf_apache',\n",
        " 'bilirubin_apache',\n",
        " #'bun_apache',\n",
        " #'creatinine_apache',\n",
        " #'fio2_apache',\n",
        " 'gcs_eyes_apache',\n",
        " 'gcs_motor_apache',\n",
        " ###'gcs_unable_apache',\n",
        " 'gcs_verbal_apache',\n",
        " #'glucose_apache',\n",
        " 'heart_rate_apache',\n",
        " 'hematocrit_apache',\n",
        " 'intubated_apache',\n",
        " 'map_apache',\n",
        " #'paco2_apache',\n",
        " #'paco2_for_ph_apache',\n",
        " #.  'pao2_apache',\n",
        " #'ph_apache',\n",
        " 'resprate_apache',\n",
        " ###'sodium_apache',\n",
        " 'temp_apache',\n",
        " #'urineoutput_apache',\n",
        " 'ventilated_apache',\n",
        " 'wbc_apache',\n",
        " 'd1_diasbp_invasive_max',\n",
        " 'd1_diasbp_invasive_min',\n",
        " 'd1_diasbp_max',\n",
        " 'd1_diasbp_min',\n",
        " ###'d1_diasbp_noninvasive_max',\n",
        " ###'d1_diasbp_noninvasive_min',\n",
        " 'd1_heartrate_max',\n",
        " 'd1_heartrate_min',\n",
        " #'d1_mbp_invasive_max',\n",
        " #'d1_mbp_invasive_min',\n",
        " 'd1_mbp_max',\n",
        " 'd1_mbp_min',\n",
        " ###'d1_mbp_noninvasive_max',\n",
        " ###'d1_mbp_noninvasive_min',\n",
        " 'd1_resprate_max',\n",
        " ###'d1_resprate_min',\n",
        " 'd1_spo2_max',\n",
        " 'd1_spo2_min',\n",
        " 'd1_sysbp_invasive_max',\n",
        " 'd1_sysbp_invasive_min',\n",
        " 'd1_sysbp_max',\n",
        " 'd1_sysbp_min',\n",
        " ###'d1_sysbp_noninvasive_max',\n",
        " ###'d1_sysbp_noninvasive_min',\n",
        " 'd1_temp_max',\n",
        " 'd1_temp_min',\n",
        " #'h1_diasbp_invasive_max',\n",
        " #'h1_diasbp_invasive_min',\n",
        " 'h1_diasbp_max',\n",
        " 'h1_diasbp_min',\n",
        " ###'h1_diasbp_noninvasive_max',\n",
        " ###'h1_diasbp_noninvasive_min',\n",
        " 'h1_heartrate_max',\n",
        " 'h1_heartrate_min',\n",
        " #'h1_mbp_invasive_max',\n",
        " #'h1_mbp_invasive_min',\n",
        " 'h1_mbp_max',\n",
        " 'h1_mbp_min',\n",
        " ###'h1_mbp_noninvasive_max',\n",
        " ###'h1_mbp_noninvasive_min',\n",
        " 'h1_resprate_max',\n",
        " 'h1_resprate_min',\n",
        " 'h1_spo2_max',\n",
        " 'h1_spo2_min',\n",
        " #'h1_sysbp_invasive_max',\n",
        " #'h1_sysbp_invasive_min',\n",
        " 'h1_sysbp_max',\n",
        " 'h1_sysbp_min',\n",
        " ###'h1_sysbp_noninvasive_max',\n",
        " ###'h1_sysbp_noninvasive_min',\n",
        " 'h1_temp_max',\n",
        " 'h1_temp_min',\n",
        " ###'d1_albumin_max',\n",
        " ###'d1_albumin_min',\n",
        " ###'d1_bilirubin_max',\n",
        " ###'d1_bilirubin_min',\n",
        " 'd1_bun_max',\n",
        " ###'d1_bun_min',\n",
        " 'd1_calcium_max',\n",
        " 'd1_calcium_min',\n",
        " #'d1_creatinine_max',\n",
        " #'d1_creatinine_min',\n",
        " 'd1_glucose_max',\n",
        " #'d1_glucose_min',\n",
        " 'd1_hco3_max',\n",
        " ###'d1_hco3_min',\n",
        " ###'d1_hemaglobin_max',\n",
        " ###'d1_hemaglobin_min',\n",
        " ###'d1_hematocrit_max',\n",
        " ###'d1_hematocrit_min',\n",
        " 'd1_inr_max',\n",
        " 'd1_inr_min',\n",
        " #'d1_lactate_max',\n",
        " #'d1_lactate_min',\n",
        " 'd1_platelets_max',\n",
        " ###'d1_platelets_min',\n",
        " ###'d1_potassium_max',\n",
        " 'd1_potassium_min',\n",
        " ###'d1_sodium_max',\n",
        " 'd1_sodium_min',\n",
        " ###'d1_wbc_max',\n",
        " ###'d1_wbc_min',\n",
        " #'h1_albumin_max',\n",
        " #'h1_albumin_min',\n",
        " #'h1_bilirubin_max',\n",
        " #'h1_bilirubin_min',\n",
        " ###'h1_bun_max',\n",
        " ###'h1_bun_min',\n",
        " ###'h1_calcium_max',\n",
        " ###'h1_calcium_min',\n",
        " ###'h1_creatinine_max',\n",
        " ###'h1_creatinine_min',\n",
        " 'h1_glucose_max',\n",
        " ###'h1_glucose_min',\n",
        " ###'h1_hco3_max',\n",
        " ###'h1_hco3_min',\n",
        " ###'h1_hemaglobin_max',\n",
        " ###'h1_hemaglobin_min',\n",
        " ###'h1_hematocrit_max',\n",
        " ###'h1_hematocrit_min',\n",
        " ###'h1_inr_max',\n",
        " ###'h1_inr_min',\n",
        " #'h1_lactate_max',\n",
        " #'h1_lactate_min',\n",
        " ###'h1_platelets_max',\n",
        " ###'h1_platelets_min',\n",
        " #'h1_potassium_max',\n",
        " ###'h1_potassium_min',\n",
        " ###'h1_sodium_max',\n",
        " ###'h1_sodium_min',\n",
        " ###'h1_wbc_max',\n",
        " ###'h1_wbc_min',\n",
        " ###'d1_arterial_pco2_max',\n",
        " 'd1_arterial_pco2_min',\n",
        " 'd1_arterial_ph_max',\n",
        " 'd1_arterial_ph_min',\n",
        " #'d1_arterial_po2_max',\n",
        " #'d1_arterial_po2_min',\n",
        " 'd1_pao2fio2ratio_max',\n",
        " 'd1_pao2fio2ratio_min',\n",
        " ###'h1_arterial_pco2_max',\n",
        " ###'h1_arterial_pco2_min',\n",
        " ###'h1_arterial_ph_max',\n",
        " ###'h1_arterial_ph_min',\n",
        " #'h1_arterial_po2_max',\n",
        " #'h1_arterial_po2_min',\n",
        " #'h1_pao2fio2ratio_max',\n",
        " ###'h1_pao2fio2ratio_min',\n",
        " 'aids',\n",
        " 'cirrhosis',\n",
        " 'hepatic_failure',\n",
        " 'immunosuppression',\n",
        " 'leukemia',\n",
        " 'lymphoma',\n",
        " 'solid_tumor_with_metastasis'        \n",
        "]]\n",
        "\n",
        "\n",
        "# took out 'h1_arterial_po2_min', 'h1_arterial_po2_max', apache bc high number of nans > 100000\n",
        "\n",
        "cats = []\n",
        "for c in list(df_final.columns):\n",
        "  unique = df_final[c].nunique()\n",
        "  if unique <= 5:\n",
        "      # decide this is a category\n",
        "      newcol, code = pd.factorize(df_final[c], na_sentinel=None)\n",
        "      cats.append(code)\n",
        "      df_final[c] = newcol\n",
        "cols = df_final.select_dtypes([np.number]).columns          ## only string features with more than 5 categories are thrown out\n",
        "X = df_final[cols]\n",
        "\n",
        "#X.fillna(X.mean(), inplace=True)\n",
        "\n",
        "is_NaN = X.isnull()\n",
        "row_has_NaN = is_NaN.sum(axis=1)\n",
        "row_has_NaN.sort_values(inplace=True)\n",
        "col_has_NaN = is_NaN.sum(axis=0)\n",
        "col_has_NaN.sort_values(inplace=True)\n",
        "#print(row_has_NaN)\n",
        "print(col_has_NaN)\n",
        "print(X.shape)\n",
        "\n",
        "X.fillna(X.mean(), inplace=True)"
      ],
      "execution_count": null,
      "outputs": [
        {
          "output_type": "stream",
          "text": [
            "diabetes_mellitus             0\n",
            "leukemia                      0\n",
            "immunosuppression             0\n",
            "hepatic_failure               0\n",
            "cirrhosis                     0\n",
            "                          ...  \n",
            "d1_pao2fio2ratio_min      93339\n",
            "d1_sysbp_invasive_min     95038\n",
            "d1_sysbp_invasive_max     95038\n",
            "d1_diasbp_invasive_max    95068\n",
            "d1_diasbp_invasive_min    95068\n",
            "Length: 79, dtype: int64\n",
            "(130157, 79)\n"
          ],
          "name": "stdout"
        },
        {
          "output_type": "stream",
          "text": [
            "/usr/local/lib/python3.6/dist-packages/pandas/core/series.py:4536: SettingWithCopyWarning: \n",
            "A value is trying to be set on a copy of a slice from a DataFrame\n",
            "\n",
            "See the caveats in the documentation: https://pandas.pydata.org/pandas-docs/stable/user_guide/indexing.html#returning-a-view-versus-a-copy\n",
            "  downcast=downcast,\n"
          ],
          "name": "stderr"
        }
      ]
    },
    {
      "cell_type": "code",
      "metadata": {
        "colab": {
          "base_uri": "https://localhost:8080/"
        },
        "id": "CcfznCLjDCM0",
        "outputId": "258abd3c-3e54-478f-e94e-606a5142b70e"
      },
      "source": [
        "from sklearn.preprocessing import StandardScaler\n",
        "from sklearn.model_selection import train_test_split\n",
        "from sklearn.ensemble import AdaBoostClassifier\n",
        "from sklearn.metrics import classification_report\n",
        "from sklearn.metrics import confusion_matrix\n",
        "from sklearn.metrics import accuracy_score\n",
        "\n",
        "X_f=X.drop(labels=['diabetes_mellitus'],axis=1)         #X full\n",
        "y_f=X['diabetes_mellitus']                              #y full\n",
        "\n",
        "X_train, X_validation, Y_train, Y_validation = train_test_split(X_f, y_f, test_size=0.70, random_state=1)\n",
        "\n",
        "sc = StandardScaler()\n",
        "X_train = sc.fit_transform(X_train)\n",
        "X_validation = sc.transform(X_validation)\n",
        "\n",
        "model = AdaBoostClassifier()\n",
        "model.fit(X_train, Y_train)\n",
        "predictions = model.predict(X_validation)\n",
        "\n",
        "print(accuracy_score(Y_validation, predictions))\n",
        "print(confusion_matrix(Y_validation, predictions))\n",
        "print(classification_report(Y_validation, predictions))\n",
        "\n"
      ],
      "execution_count": null,
      "outputs": [
        {
          "output_type": "stream",
          "text": [
            "0.811963560531226\n",
            "[[ 7763 11954]\n",
            " [ 5178 66215]]\n",
            "              precision    recall  f1-score   support\n",
            "\n",
            "           0       0.60      0.39      0.48     19717\n",
            "           1       0.85      0.93      0.89     71393\n",
            "\n",
            "    accuracy                           0.81     91110\n",
            "   macro avg       0.72      0.66      0.68     91110\n",
            "weighted avg       0.79      0.81      0.80     91110\n",
            "\n"
          ],
          "name": "stdout"
        }
      ]
    },
    {
      "cell_type": "code",
      "metadata": {
        "colab": {
          "base_uri": "https://localhost:8080/"
        },
        "id": "Ye4UNzXLZ7-V",
        "outputId": "6144fb95-f8f6-4bd6-83ce-e70c700e0987"
      },
      "source": [
        "#best guy\n",
        "\n",
        "bestmodel = GradientBoostingClassifier(n_estimators=100, subsample = 0.6, max_features=11, learning_rate = 0.1, max_depth = 7)\n",
        "bestmodel.fit(X_train,Y_train)\n",
        "predictions = bestmodel.predict(X_validation)\n",
        "\n",
        "print(accuracy_score(Y_validation, predictions))\n",
        "print(confusion_matrix(Y_validation, predictions))\n",
        "print(classification_report(Y_validation, predictions))"
      ],
      "execution_count": null,
      "outputs": [
        {
          "output_type": "stream",
          "text": [
            "0.8189002304906158\n",
            "[[ 8051 11666]\n",
            " [ 4834 66559]]\n",
            "              precision    recall  f1-score   support\n",
            "\n",
            "           0       0.62      0.41      0.49     19717\n",
            "           1       0.85      0.93      0.89     71393\n",
            "\n",
            "    accuracy                           0.82     91110\n",
            "   macro avg       0.74      0.67      0.69     91110\n",
            "weighted avg       0.80      0.82      0.80     91110\n",
            "\n"
          ],
          "name": "stdout"
        }
      ]
    },
    {
      "cell_type": "code",
      "metadata": {
        "colab": {
          "base_uri": "https://localhost:8080/",
          "height": 333
        },
        "id": "_hpvcLL-FCfD",
        "outputId": "17e65c2a-6f2d-4b95-f8c2-b94697e6738f"
      },
      "source": [
        "from sklearn.ensemble import GradientBoostingClassifier\n",
        "from sklearn.model_selection import cross_val_score\n",
        "from sklearn.model_selection import RepeatedStratifiedKFold\n",
        "from matplotlib import pyplot\n",
        "from numpy import mean\n",
        "from numpy import std\n",
        "\n",
        "def get_models():\n",
        "\tmodels = dict()\n",
        "\tn_trees = [10, 50, 100, 500]\n",
        "\tfor n in n_trees:\n",
        "\t\tmodels[str(n)] = GradientBoostingClassifier(n_estimators=n)\n",
        "\treturn models\n",
        " \n",
        "def evaluate_model(model, X, y):\n",
        "\t\n",
        "\tscores = model.score(X, y)\n",
        "\treturn scores\n",
        " \n",
        "\n",
        "models = get_models()\n",
        "results, names = list(), list()\n",
        "for name, model in models.items():\n",
        "  model.fit(X_train, Y_train)\n",
        "  scores = model.score(X_validation, Y_validation)\n",
        "  results.append(scores)\n",
        "  names.append(name)\n",
        "  print('>%s %.3f ' % (name, mean(scores)))\n",
        "\n",
        "\n",
        "pyplot.plot(results)\n",
        "pyplot.show()"
      ],
      "execution_count": null,
      "outputs": [
        {
          "output_type": "stream",
          "text": [
            ">10 0.785 \n",
            ">50 0.819 \n",
            ">100 0.821 \n",
            ">500 0.823 \n"
          ],
          "name": "stdout"
        },
        {
          "output_type": "display_data",
          "data": {
            "image/png": "[encoded data removed]",
            "text/plain": [
              "<Figure size 432x288 with 1 Axes>"
            ]
          },
          "metadata": {
            "tags": [],
            "needs_background": "light"
          }
        }
      ]
    },
    {
      "cell_type": "code",
      "metadata": {
        "colab": {
          "base_uri": "https://localhost:8080/",
          "height": 435
        },
        "id": "yX0tehamO6Bo",
        "outputId": "efb96c95-1d51-4618-cd56-ee882c01ee7d"
      },
      "source": [
        "from numpy import arange\n",
        "def get_models():\n",
        "\tmodels = dict()\n",
        "\tfor i in arange(0.1, 1.1, 0.1):\n",
        "\t\tkey = '%.1f' % i\n",
        "\t\tmodels[key] = GradientBoostingClassifier(subsample=i)\n",
        "\treturn models\n",
        " \n",
        "def evaluate_model(model, X, y):\n",
        "\t\n",
        "\tscores = model.score(X, y)\n",
        "\treturn scores\n",
        " \n",
        "\n",
        "models = get_models()\n",
        "results, names = list(), list()\n",
        "for name, model in models.items():\n",
        "  model.fit(X_train, Y_train)\n",
        "  scores = model.score(X_validation, Y_validation)\n",
        "  results.append(scores)\n",
        "  names.append(name)\n",
        "  print('>%s %.3f ' % (name, mean(scores)))\n",
        "\n",
        "\n",
        "pyplot.plot(results)\n",
        "pyplot.show()\n"
      ],
      "execution_count": null,
      "outputs": [
        {
          "output_type": "stream",
          "text": [
            ">0.1 0.818 \n",
            ">0.2 0.820 \n",
            ">0.3 0.820 \n",
            ">0.4 0.821 \n",
            ">0.5 0.821 \n",
            ">0.6 0.822 \n",
            ">0.7 0.822 \n",
            ">0.8 0.821 \n",
            ">0.9 0.822 \n",
            ">1.0 0.821 \n"
          ],
          "name": "stdout"
        },
        {
          "output_type": "display_data",
          "data": {
            "image/png": "[encoded data removed]",
            "text/plain": [
              "<Figure size 432x288 with 1 Axes>"
            ]
          },
          "metadata": {
            "tags": [],
            "needs_background": "light"
          }
        }
      ]
    },
    {
      "cell_type": "code",
      "metadata": {
        "colab": {
          "base_uri": "https://localhost:8080/",
          "height": 605
        },
        "id": "wYakvY_QuKlc",
        "outputId": "bd21bfc5-cc06-49b4-9cda-854b21e1fa94"
      },
      "source": [
        "def get_models():\n",
        "  models = dict()\n",
        "  for i in range(1,21):\n",
        "    models[str(i)] = GradientBoostingClassifier(max_features=i)\n",
        "  return models\n",
        " \n",
        "def evaluate_model(model, X, y):\n",
        "\t\n",
        "\tscores = model.score(X, y)\n",
        "\treturn scores\n",
        " \n",
        "\n",
        "models = get_models()\n",
        "results, names = list(), list()\n",
        "for name, model in models.items():\n",
        "  model.fit(X_train, Y_train)\n",
        "  scores = model.score(X_validation, Y_validation)\n",
        "  results.append(scores)\n",
        "  names.append(name)\n",
        "  print('>%s %.3f ' % (name, mean(scores)))\n",
        "\n",
        "\n",
        "pyplot.plot(results)\n",
        "pyplot.show()\n",
        "  \n"
      ],
      "execution_count": null,
      "outputs": [
        {
          "output_type": "stream",
          "text": [
            ">1 0.788 \n",
            ">2 0.802 \n",
            ">3 0.806 \n",
            ">4 0.811 \n",
            ">5 0.815 \n",
            ">6 0.816 \n",
            ">7 0.817 \n",
            ">8 0.819 \n",
            ">9 0.816 \n",
            ">10 0.819 \n",
            ">11 0.820 \n",
            ">12 0.818 \n",
            ">13 0.819 \n",
            ">14 0.820 \n",
            ">15 0.819 \n",
            ">16 0.819 \n",
            ">17 0.820 \n",
            ">18 0.820 \n",
            ">19 0.820 \n",
            ">20 0.820 \n"
          ],
          "name": "stdout"
        },
        {
          "output_type": "display_data",
          "data": {
            "image/png": "[encoded data removed]",
            "text/plain": [
              "<Figure size 432x288 with 1 Axes>"
            ]
          },
          "metadata": {
            "tags": [],
            "needs_background": "light"
          }
        }
      ]
    },
    {
      "cell_type": "code",
      "metadata": {
        "colab": {
          "base_uri": "https://localhost:8080/",
          "height": 350
        },
        "id": "X09j8EdfuNjK",
        "outputId": "ce0a0c17-5a57-4dbf-854b-eae8240d3945"
      },
      "source": [
        "def get_models():\n",
        "  models = dict()\n",
        "  for i in [0.0001, 0.001, 0.01, 0.1, 1.0]:\n",
        "    key = '{%.4f}' % i\n",
        "    models[key] = GradientBoostingClassifier(learning_rate=i)\n",
        "  return models\n",
        " \n",
        "def evaluate_model(model, X, y):\n",
        "\t\n",
        "\tscores = model.score(X, y)\n",
        "\treturn scores\n",
        " \n",
        "\n",
        "models = get_models()\n",
        "results, names = list(), list()\n",
        "for name, model in models.items():\n",
        "  model.fit(X_train, Y_train)\n",
        "  scores = model.score(X_validation, Y_validation)\n",
        "  results.append(scores)\n",
        "  names.append(name)\n",
        "  print('>%s %.3f ' % (name, mean(scores)))\n",
        "\n",
        "\n",
        "pyplot.plot(results)\n",
        "pyplot.show()"
      ],
      "execution_count": null,
      "outputs": [
        {
          "output_type": "stream",
          "text": [
            ">0.0001 0.784 \n",
            ">0.0010 0.784 \n",
            ">0.0100 0.784 \n",
            ">0.1000 0.821 \n",
            ">1.0000 0.806 \n"
          ],
          "name": "stdout"
        },
        {
          "output_type": "display_data",
          "data": {
            "image/png": "[encoded data removed]",
            "text/plain": [
              "<Figure size 432x288 with 1 Axes>"
            ]
          },
          "metadata": {
            "tags": [],
            "needs_background": "light"
          }
        }
      ]
    }
  ]
}